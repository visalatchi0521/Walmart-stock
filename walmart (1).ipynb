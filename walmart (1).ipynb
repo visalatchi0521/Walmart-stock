{
 "cells": [
  {
   "cell_type": "code",
   "execution_count": 1,
   "metadata": {},
   "outputs": [
    {
     "data": {
      "text/html": [
       "<style scoped>\n",
       "  .ansiout {\n",
       "    display: block;\n",
       "    unicode-bidi: embed;\n",
       "    white-space: pre-wrap;\n",
       "    word-wrap: break-word;\n",
       "    word-break: break-all;\n",
       "    font-family: \"Source Code Pro\", \"Menlo\", monospace;;\n",
       "    font-size: 13px;\n",
       "    color: #555;\n",
       "    margin-left: 4px;\n",
       "    line-height: 19px;\n",
       "  }\n",
       "</style>\n",
       "<div class=\"ansiout\"></div>"
      ]
     },
     "metadata": {},
     "output_type": "display_data"
    }
   ],
   "source": [
    "from pyspark.sql import SQLContext"
   ]
  },
  {
   "cell_type": "code",
   "execution_count": 2,
   "metadata": {},
   "outputs": [
    {
     "data": {
      "text/html": [
       "<style scoped>\n",
       "  .ansiout {\n",
       "    display: block;\n",
       "    unicode-bidi: embed;\n",
       "    white-space: pre-wrap;\n",
       "    word-wrap: break-word;\n",
       "    word-break: break-all;\n",
       "    font-family: \"Source Code Pro\", \"Menlo\", monospace;;\n",
       "    font-size: 13px;\n",
       "    color: #555;\n",
       "    margin-left: 4px;\n",
       "    line-height: 19px;\n",
       "  }\n",
       "</style>\n",
       "<div class=\"ansiout\"></div>"
      ]
     },
     "metadata": {},
     "output_type": "display_data"
    }
   ],
   "source": [
    "#Load the Walmart Stock CSV File, have Spark infer the data types\n",
    "df=sqlContext.sql('SELECT * FROM walmart_stock_csv')"
   ]
  },
  {
   "cell_type": "code",
   "execution_count": 3,
   "metadata": {},
   "outputs": [
    {
     "data": {
      "text/html": [
       "<style scoped>\n",
       "  .ansiout {\n",
       "    display: block;\n",
       "    unicode-bidi: embed;\n",
       "    white-space: pre-wrap;\n",
       "    word-wrap: break-word;\n",
       "    word-break: break-all;\n",
       "    font-family: \"Source Code Pro\", \"Menlo\", monospace;;\n",
       "    font-size: 13px;\n",
       "    color: #555;\n",
       "    margin-left: 4px;\n",
       "    line-height: 19px;\n",
       "  }\n",
       "</style>\n",
       "<div class=\"ansiout\">root\n",
       "-- Date: timestamp (nullable = true)\n",
       "-- Open: float (nullable = true)\n",
       "-- High: float (nullable = true)\n",
       "-- Low: float (nullable = true)\n",
       "-- Close: float (nullable = true)\n",
       "-- Volume: integer (nullable = true)\n",
       "-- Adj Close: float (nullable = true)\n",
       "\n",
       "</div>"
      ]
     },
     "metadata": {},
     "output_type": "display_data"
    }
   ],
   "source": [
    "#What does the Schema look like?\n",
    "df.printSchema()"
   ]
  },
  {
   "cell_type": "code",
   "execution_count": 4,
   "metadata": {},
   "outputs": [
    {
     "data": {
      "text/html": [
       "<style scoped>\n",
       "  .ansiout {\n",
       "    display: block;\n",
       "    unicode-bidi: embed;\n",
       "    white-space: pre-wrap;\n",
       "    word-wrap: break-word;\n",
       "    word-break: break-all;\n",
       "    font-family: \"Source Code Pro\", \"Menlo\", monospace;;\n",
       "    font-size: 13px;\n",
       "    color: #555;\n",
       "    margin-left: 4px;\n",
       "    line-height: 19px;\n",
       "  }\n",
       "</style>\n",
       "<div class=\"ansiout\">+-------------------+-----+-----+-----+-----+--------+---------+\n",
       "               Date| Open| High|  Low|Close|  Volume|Adj Close|\n",
       "+-------------------+-----+-----+-----+-----+--------+---------+\n",
       "2012-01-03 00:00:00|59.97|61.06|59.87|60.33|12668800|52.619236|\n",
       "2012-01-04 00:00:00|60.21|60.35|59.47|59.71| 9593300|52.078476|\n",
       "2012-01-05 00:00:00|59.35|59.62|58.37|59.42|12768200| 51.82554|\n",
       "2012-01-06 00:00:00|59.42|59.45|58.87| 59.0| 8069400| 51.45922|\n",
       "2012-01-09 00:00:00|59.03|59.55|58.92|59.18| 6679300|51.616215|\n",
       "2012-01-10 00:00:00|59.43|59.71|58.98|59.04| 6907300| 51.49411|\n",
       "2012-01-11 00:00:00|59.06|59.53|59.04| 59.4| 6365600|51.808098|\n",
       "2012-01-12 00:00:00|59.79| 60.0| 59.4| 59.5| 7236400|51.895317|\n",
       "2012-01-13 00:00:00|59.18|59.61|59.01|59.54| 7729300|51.930202|\n",
       "2012-01-17 00:00:00|59.87|60.11|59.52|59.85| 8500000| 52.20058|\n",
       "2012-01-18 00:00:00|59.79|60.03|59.65|60.01| 5911400| 52.34013|\n",
       "2012-01-19 00:00:00|59.93|60.73|59.75|60.61| 9234600|52.863445|\n",
       "2012-01-20 00:00:00|60.75|61.25|60.67|61.01|10378800|53.212322|\n",
       "2012-01-23 00:00:00|60.81|60.98|60.51|60.91| 7134100|53.125103|\n",
       "2012-01-24 00:00:00|60.75| 62.0|60.75|61.39| 7362800|53.543755|\n",
       "2012-01-25 00:00:00|61.18|61.61|61.04|61.47| 5915800| 53.61353|\n",
       "2012-01-26 00:00:00| 61.8|61.84|60.77|60.97| 7436200|53.177437|\n",
       "2012-01-27 00:00:00|60.86|61.12|60.54|60.71| 6287300|52.950665|\n",
       "2012-01-30 00:00:00|60.47|61.32|60.35| 61.3| 7636900|53.465256|\n",
       "2012-01-31 00:00:00|61.53|61.57|60.58|61.36| 9761500| 53.51759|\n",
       "+-------------------+-----+-----+-----+-----+--------+---------+\n",
       "only showing top 20 rows\n",
       "\n",
       "</div>"
      ]
     },
     "metadata": {},
     "output_type": "display_data"
    }
   ],
   "source": [
    "df.show()"
   ]
  },
  {
   "cell_type": "code",
   "execution_count": 5,
   "metadata": {},
   "outputs": [
    {
     "data": {
      "text/html": [
       "<style scoped>\n",
       "  .ansiout {\n",
       "    display: block;\n",
       "    unicode-bidi: embed;\n",
       "    white-space: pre-wrap;\n",
       "    word-wrap: break-word;\n",
       "    word-break: break-all;\n",
       "    font-family: \"Source Code Pro\", \"Menlo\", monospace;;\n",
       "    font-size: 13px;\n",
       "    color: #555;\n",
       "    margin-left: 4px;\n",
       "    line-height: 19px;\n",
       "  }\n",
       "</style>\n",
       "<div class=\"ansiout\">+-------+-----------------+-----------------+-----------------+-----------------+-----------------+-----------------+\n",
       "summary|             Open|             High|              Low|            Close|           Volume|        Adj Close|\n",
       "+-------+-----------------+-----------------+-----------------+-----------------+-----------------+-----------------+\n",
       "  count|             1258|             1258|             1258|             1258|             1258|             1258|\n",
       "   mean|72.35785375452572| 72.8393880756178|71.91860094964979|72.38844997363553|8222093.481717011|67.23883840200064|\n",
       " stddev|6.768090251767697|6.768186825250206|6.744075739203606|6.756859160119612|  4519780.8431556|6.722609385249684|\n",
       "    min|            56.39|            57.06|             56.3|            56.42|          2094900|         50.36369|\n",
       "    max|             90.8|            90.97|            89.25|            90.47|         80898100|        84.914215|\n",
       "+-------+-----------------+-----------------+-----------------+-----------------+-----------------+-----------------+\n",
       "\n",
       "</div>"
      ]
     },
     "metadata": {},
     "output_type": "display_data"
    }
   ],
   "source": [
    "#Use describe() to learn about the DataFrame\n",
    "df.describe().show()"
   ]
  },
  {
   "cell_type": "code",
   "execution_count": 6,
   "metadata": {},
   "outputs": [
    {
     "data": {
      "text/html": [
       "<style scoped>\n",
       "  .ansiout {\n",
       "    display: block;\n",
       "    unicode-bidi: embed;\n",
       "    white-space: pre-wrap;\n",
       "    word-wrap: break-word;\n",
       "    word-break: break-all;\n",
       "    font-family: \"Source Code Pro\", \"Menlo\", monospace;;\n",
       "    font-size: 13px;\n",
       "    color: #555;\n",
       "    margin-left: 4px;\n",
       "    line-height: 19px;\n",
       "  }\n",
       "</style>\n",
       "<div class=\"ansiout\"><span class=\"ansired\">Out[</span><span class=\"ansired\">18</span><span class=\"ansired\">]: </span>[Row(Date=datetime.datetime(2012, 1, 3, 0, 0), Open=59.970001220703125, High=61.060001373291016, Low=59.869998931884766, Close=60.33000183105469, Volume=12668800, Adj Close=52.61923599243164),\n",
       " Row(Date=datetime.datetime(2012, 1, 4, 0, 0), Open=60.209999084472656, High=60.349998474121094, Low=59.470001220703125, Close=59.709999084472656, Volume=9593300, Adj Close=52.07847595214844),\n",
       " Row(Date=datetime.datetime(2012, 1, 5, 0, 0), Open=59.349998474121094, High=59.619998931884766, Low=58.369998931884766, Close=59.41999816894531, Volume=12768200, Adj Close=51.825538635253906),\n",
       " Row(Date=datetime.datetime(2012, 1, 6, 0, 0), Open=59.41999816894531, High=59.45000076293945, Low=58.869998931884766, Close=59.0, Volume=8069400, Adj Close=51.45922088623047),\n",
       " Row(Date=datetime.datetime(2012, 1, 9, 0, 0), Open=59.029998779296875, High=59.54999923706055, Low=58.91999816894531, Close=59.18000030517578, Volume=6679300, Adj Close=51.616214752197266)]</div>"
      ]
     },
     "metadata": {},
     "output_type": "display_data"
    }
   ],
   "source": [
    "#First 5 rows\n",
    "df.head(5)"
   ]
  },
  {
   "cell_type": "code",
   "execution_count": 7,
   "metadata": {},
   "outputs": [
    {
     "data": {
      "text/html": [
       "<style scoped>\n",
       "  .ansiout {\n",
       "    display: block;\n",
       "    unicode-bidi: embed;\n",
       "    white-space: pre-wrap;\n",
       "    word-wrap: break-word;\n",
       "    word-break: break-all;\n",
       "    font-family: \"Source Code Pro\", \"Menlo\", monospace;;\n",
       "    font-size: 13px;\n",
       "    color: #555;\n",
       "    margin-left: 4px;\n",
       "    line-height: 19px;\n",
       "  }\n",
       "</style>\n",
       "<div class=\"ansiout\">+-------------------+-----+-----+-----+-----+--------+---------+--------------------+\n",
       "               Date| Open| High|  Low|Close|  Volume|Adj Close|            HV_ratio|\n",
       "+-------------------+-----+-----+-----+-----+--------+---------+--------------------+\n",
       "2012-01-03 00:00:00|59.97|61.06|59.87|60.33|12668800|52.619236|4.819714682786927E-6|\n",
       "2012-01-04 00:00:00|60.21|60.35|59.47|59.71| 9593300|52.078476|6.290848662516662E-6|\n",
       "2012-01-05 00:00:00|59.35|59.62|58.37|59.42|12768200| 51.82554| 4.66941298944916E-6|\n",
       "2012-01-06 00:00:00|59.42|59.45|58.87| 59.0| 8069400| 51.45922| 7.36733843444859E-6|\n",
       "2012-01-09 00:00:00|59.03|59.55|58.92|59.18| 6679300|51.616215|8.915604814435727E-6|\n",
       "2012-01-10 00:00:00|59.43|59.71|58.98|59.04| 6907300| 51.49411|8.644477449144044E-6|\n",
       "2012-01-11 00:00:00|59.06|59.53|59.04| 59.4| 6365600|51.808098|9.351828386844425E-6|\n",
       "2012-01-12 00:00:00|59.79| 60.0| 59.4| 59.5| 7236400|51.895317| 8.29141562102703E-6|\n",
       "2012-01-13 00:00:00|59.18|59.61|59.01|59.54| 7729300|51.930202|7.712212051589609E-6|\n",
       "2012-01-17 00:00:00|59.87|60.11|59.52|59.85| 8500000| 52.20058|7.071764777688419...|\n",
       "2012-01-18 00:00:00|59.79|60.03|59.65|60.01| 5911400| 52.34013|1.015495462653464...|\n",
       "2012-01-19 00:00:00|59.93|60.73|59.75|60.61| 9234600|52.863445|  6.5763540967921E-6|\n",
       "2012-01-20 00:00:00|60.75|61.25|60.67|61.01|10378800|53.212322| 5.90145296180676E-6|\n",
       "2012-01-23 00:00:00|60.81|60.98|60.51|60.91| 7134100|53.125103|8.547679390846264E-6|\n",
       "2012-01-24 00:00:00|60.75| 62.0|60.75|61.39| 7362800|53.543755|8.420709512685392E-6|\n",
       "2012-01-25 00:00:00|61.18|61.61|61.04|61.47| 5915800| 53.61353|1.041448335142357...|\n",
       "2012-01-26 00:00:00| 61.8|61.84|60.77|60.97| 7436200|53.177437|8.316075435382035E-6|\n",
       "2012-01-27 00:00:00|60.86|61.12|60.54|60.71| 6287300|52.950665|9.721183804158345E-6|\n",
       "2012-01-30 00:00:00|60.47|61.32|60.35| 61.3| 7636900|53.465256|8.029435987746889E-6|\n",
       "2012-01-31 00:00:00|61.53|61.57|60.58|61.36| 9761500| 53.51759|6.307432228123159E-6|\n",
       "+-------------------+-----+-----+-----+-----+--------+---------+--------------------+\n",
       "only showing top 20 rows\n",
       "\n",
       "</div>"
      ]
     },
     "metadata": {},
     "output_type": "display_data"
    }
   ],
   "source": [
    "#Creating a seperate column 'HV ratio'\n",
    "df2=df.withColumn('HV_ratio',df['High']/df['Volume'])\n",
    "df2.show()"
   ]
  },
  {
   "cell_type": "code",
   "execution_count": 8,
   "metadata": {},
   "outputs": [
    {
     "data": {
      "text/html": [
       "<style scoped>\n",
       "  .ansiout {\n",
       "    display: block;\n",
       "    unicode-bidi: embed;\n",
       "    white-space: pre-wrap;\n",
       "    word-wrap: break-word;\n",
       "    word-break: break-all;\n",
       "    font-family: \"Source Code Pro\", \"Menlo\", monospace;;\n",
       "    font-size: 13px;\n",
       "    color: #555;\n",
       "    margin-left: 4px;\n",
       "    line-height: 19px;\n",
       "  }\n",
       "</style>\n",
       "<div class=\"ansiout\"><span class=\"ansired\">Out[</span><span class=\"ansired\">21</span><span class=\"ansired\">]: </span>datetime.datetime(2015, 1, 13, 0, 0)</div>"
      ]
     },
     "metadata": {},
     "output_type": "display_data"
    }
   ],
   "source": [
    "#What day had the Peak High in Price?\n",
    "df.orderBy(df['high'].desc()).head(1)[0][0]"
   ]
  },
  {
   "cell_type": "code",
   "execution_count": 9,
   "metadata": {},
   "outputs": [
    {
     "data": {
      "text/html": [
       "<style scoped>\n",
       "  .ansiout {\n",
       "    display: block;\n",
       "    unicode-bidi: embed;\n",
       "    white-space: pre-wrap;\n",
       "    word-wrap: break-word;\n",
       "    word-break: break-all;\n",
       "    font-family: \"Source Code Pro\", \"Menlo\", monospace;;\n",
       "    font-size: 13px;\n",
       "    color: #555;\n",
       "    margin-left: 4px;\n",
       "    line-height: 19px;\n",
       "  }\n",
       "</style>\n",
       "<div class=\"ansiout\">+-----------------+\n",
       "       avg(close)|\n",
       "+-----------------+\n",
       "72.38844997363553|\n",
       "+-----------------+\n",
       "\n",
       "</div>"
      ]
     },
     "metadata": {},
     "output_type": "display_data"
    }
   ],
   "source": [
    "# Also could have gotten this from describe()\n",
    "df.groupby().mean('close').show()"
   ]
  },
  {
   "cell_type": "code",
   "execution_count": 10,
   "metadata": {},
   "outputs": [
    {
     "data": {
      "text/html": [
       "<style scoped>\n",
       "  .ansiout {\n",
       "    display: block;\n",
       "    unicode-bidi: embed;\n",
       "    white-space: pre-wrap;\n",
       "    word-wrap: break-word;\n",
       "    word-break: break-all;\n",
       "    font-family: \"Source Code Pro\", \"Menlo\", monospace;;\n",
       "    font-size: 13px;\n",
       "    color: #555;\n",
       "    margin-left: 4px;\n",
       "    line-height: 19px;\n",
       "  }\n",
       "</style>\n",
       "<div class=\"ansiout\">+-----------+\n",
       "min(Volume)|\n",
       "+-----------+\n",
       "    2094900|\n",
       "+-----------+\n",
       "\n",
       "</div>"
      ]
     },
     "metadata": {},
     "output_type": "display_data"
    }
   ],
   "source": [
    "#What is the max and min of the Volume column?\n",
    "df.groupby().min('Volume').show()"
   ]
  },
  {
   "cell_type": "code",
   "execution_count": 11,
   "metadata": {},
   "outputs": [
    {
     "data": {
      "text/html": [
       "<style scoped>\n",
       "  .ansiout {\n",
       "    display: block;\n",
       "    unicode-bidi: embed;\n",
       "    white-space: pre-wrap;\n",
       "    word-wrap: break-word;\n",
       "    word-break: break-all;\n",
       "    font-family: \"Source Code Pro\", \"Menlo\", monospace;;\n",
       "    font-size: 13px;\n",
       "    color: #555;\n",
       "    margin-left: 4px;\n",
       "    line-height: 19px;\n",
       "  }\n",
       "</style>\n",
       "<div class=\"ansiout\">+-----------+\n",
       "max(Volume)|\n",
       "+-----------+\n",
       "   80898100|\n",
       "+-----------+\n",
       "\n",
       "</div>"
      ]
     },
     "metadata": {},
     "output_type": "display_data"
    }
   ],
   "source": [
    "#Finding minimum value\n",
    "df.groupby().max('Volume').show()"
   ]
  },
  {
   "cell_type": "code",
   "execution_count": 12,
   "metadata": {},
   "outputs": [
    {
     "data": {
      "text/html": [
       "<style scoped>\n",
       "  .ansiout {\n",
       "    display: block;\n",
       "    unicode-bidi: embed;\n",
       "    white-space: pre-wrap;\n",
       "    word-wrap: break-word;\n",
       "    word-break: break-all;\n",
       "    font-family: \"Source Code Pro\", \"Menlo\", monospace;;\n",
       "    font-size: 13px;\n",
       "    color: #555;\n",
       "    margin-left: 4px;\n",
       "    line-height: 19px;\n",
       "  }\n",
       "</style>\n",
       "<div class=\"ansiout\"><span class=\"ansired\">Out[</span><span class=\"ansired\">27</span><span class=\"ansired\">]: </span>81</div>"
      ]
     },
     "metadata": {},
     "output_type": "display_data"
    }
   ],
   "source": [
    "#How many days was the Close lower than 60 dollars?\n",
    "df.filter(df['close']<60).count()"
   ]
  },
  {
   "cell_type": "code",
   "execution_count": 13,
   "metadata": {},
   "outputs": [],
   "source": [
    "#What percentage of the time was the High greater than 80 dollars ?\n",
    "df.filter((df['High'].count()/df.count())*100"
   ]
  },
  {
   "cell_type": "code",
   "execution_count": 14,
   "metadata": {},
   "outputs": [
    {
     "data": {
      "text/html": [
       "<style scoped>\n",
       "  .ansiout {\n",
       "    display: block;\n",
       "    unicode-bidi: embed;\n",
       "    white-space: pre-wrap;\n",
       "    word-wrap: break-word;\n",
       "    word-break: break-all;\n",
       "    font-family: \"Source Code Pro\", \"Menlo\", monospace;;\n",
       "    font-size: 13px;\n",
       "    color: #555;\n",
       "    margin-left: 4px;\n",
       "    line-height: 19px;\n",
       "  }\n",
       "</style>\n",
       "<div class=\"ansiout\"><span class=\"ansired\">Out[</span><span class=\"ansired\">29</span><span class=\"ansired\">]: </span>-0.3384326061799556</div>"
      ]
     },
     "metadata": {},
     "output_type": "display_data"
    }
   ],
   "source": [
    "#What is the Pearson correlation between High and Volume?\n",
    "df.stat.corr(\"High\",\"Volume\")"
   ]
  },
  {
   "cell_type": "code",
   "execution_count": 15,
   "metadata": {},
   "outputs": [
    {
     "data": {
      "text/html": [
       "<style scoped>\n",
       "  .ansiout {\n",
       "    display: block;\n",
       "    unicode-bidi: embed;\n",
       "    white-space: pre-wrap;\n",
       "    word-wrap: break-word;\n",
       "    word-break: break-all;\n",
       "    font-family: \"Source Code Pro\", \"Menlo\", monospace;;\n",
       "    font-size: 13px;\n",
       "    color: #555;\n",
       "    margin-left: 4px;\n",
       "    line-height: 19px;\n",
       "  }\n",
       "</style>\n",
       "<div class=\"ansiout\">+-------------------+-----+-----+-----+-----+--------+---------+----+\n",
       "               Date| Open| High|  Low|Close|  Volume|Adj Close|year|\n",
       "+-------------------+-----+-----+-----+-----+--------+---------+----+\n",
       "2012-01-03 00:00:00|59.97|61.06|59.87|60.33|12668800|52.619236|2012|\n",
       "2012-01-04 00:00:00|60.21|60.35|59.47|59.71| 9593300|52.078476|2012|\n",
       "2012-01-05 00:00:00|59.35|59.62|58.37|59.42|12768200| 51.82554|2012|\n",
       "2012-01-06 00:00:00|59.42|59.45|58.87| 59.0| 8069400| 51.45922|2012|\n",
       "2012-01-09 00:00:00|59.03|59.55|58.92|59.18| 6679300|51.616215|2012|\n",
       "2012-01-10 00:00:00|59.43|59.71|58.98|59.04| 6907300| 51.49411|2012|\n",
       "2012-01-11 00:00:00|59.06|59.53|59.04| 59.4| 6365600|51.808098|2012|\n",
       "2012-01-12 00:00:00|59.79| 60.0| 59.4| 59.5| 7236400|51.895317|2012|\n",
       "2012-01-13 00:00:00|59.18|59.61|59.01|59.54| 7729300|51.930202|2012|\n",
       "2012-01-17 00:00:00|59.87|60.11|59.52|59.85| 8500000| 52.20058|2012|\n",
       "2012-01-18 00:00:00|59.79|60.03|59.65|60.01| 5911400| 52.34013|2012|\n",
       "2012-01-19 00:00:00|59.93|60.73|59.75|60.61| 9234600|52.863445|2012|\n",
       "2012-01-20 00:00:00|60.75|61.25|60.67|61.01|10378800|53.212322|2012|\n",
       "2012-01-23 00:00:00|60.81|60.98|60.51|60.91| 7134100|53.125103|2012|\n",
       "2012-01-24 00:00:00|60.75| 62.0|60.75|61.39| 7362800|53.543755|2012|\n",
       "2012-01-25 00:00:00|61.18|61.61|61.04|61.47| 5915800| 53.61353|2012|\n",
       "2012-01-26 00:00:00| 61.8|61.84|60.77|60.97| 7436200|53.177437|2012|\n",
       "2012-01-27 00:00:00|60.86|61.12|60.54|60.71| 6287300|52.950665|2012|\n",
       "2012-01-30 00:00:00|60.47|61.32|60.35| 61.3| 7636900|53.465256|2012|\n",
       "2012-01-31 00:00:00|61.53|61.57|60.58|61.36| 9761500| 53.51759|2012|\n",
       "+-------------------+-----+-----+-----+-----+--------+---------+----+\n",
       "only showing top 20 rows\n",
       "\n",
       "</div>"
      ]
     },
     "metadata": {},
     "output_type": "display_data"
    }
   ],
   "source": [
    "#What is the max High per year?\n",
    "from pyspark.sql.functions import year\n",
    "df3=df.withColumn('year',year(df['Date']))\n",
    "df3.show()"
   ]
  },
  {
   "cell_type": "code",
   "execution_count": 16,
   "metadata": {},
   "outputs": [
    {
     "data": {
      "text/html": [
       "<style scoped>\n",
       "  .ansiout {\n",
       "    display: block;\n",
       "    unicode-bidi: embed;\n",
       "    white-space: pre-wrap;\n",
       "    word-wrap: break-word;\n",
       "    word-break: break-all;\n",
       "    font-family: \"Source Code Pro\", \"Menlo\", monospace;;\n",
       "    font-size: 13px;\n",
       "    color: #555;\n",
       "    margin-left: 4px;\n",
       "    line-height: 19px;\n",
       "  }\n",
       "</style>\n",
       "<div class=\"ansiout\">+----+---------+\n",
       "year|max(High)|\n",
       "+----+---------+\n",
       "2015|    90.97|\n",
       "2013|    81.37|\n",
       "2014|    88.09|\n",
       "2012|     77.6|\n",
       "2016|    75.19|\n",
       "+----+---------+\n",
       "\n",
       "</div>"
      ]
     },
     "metadata": {},
     "output_type": "display_data"
    }
   ],
   "source": [
    "#What is the max High per year?\n",
    "df3.groupby('year').max('High').show()"
   ]
  },
  {
   "cell_type": "code",
   "execution_count": 17,
   "metadata": {},
   "outputs": [
    {
     "data": {
      "text/html": [
       "<style scoped>\n",
       "  .ansiout {\n",
       "    display: block;\n",
       "    unicode-bidi: embed;\n",
       "    white-space: pre-wrap;\n",
       "    word-wrap: break-word;\n",
       "    word-break: break-all;\n",
       "    font-family: \"Source Code Pro\", \"Menlo\", monospace;;\n",
       "    font-size: 13px;\n",
       "    color: #555;\n",
       "    margin-left: 4px;\n",
       "    line-height: 19px;\n",
       "  }\n",
       "</style>\n",
       "<div class=\"ansiout\"></div>"
      ]
     },
     "metadata": {},
     "output_type": "display_data"
    }
   ],
   "source": [
    "df3=df.withColumn('month',month(df['Date']))"
   ]
  },
  {
   "cell_type": "code",
   "execution_count": 18,
   "metadata": {},
   "outputs": [
    {
     "data": {
      "text/html": [
       "<style scoped>\n",
       "  .ansiout {\n",
       "    display: block;\n",
       "    unicode-bidi: embed;\n",
       "    white-space: pre-wrap;\n",
       "    word-wrap: break-word;\n",
       "    word-break: break-all;\n",
       "    font-family: \"Source Code Pro\", \"Menlo\", monospace;;\n",
       "    font-size: 13px;\n",
       "    color: #555;\n",
       "    margin-left: 4px;\n",
       "    line-height: 19px;\n",
       "  }\n",
       "</style>\n",
       "<div class=\"ansiout\">+-----+---------+\n",
       "month|max(High)|\n",
       "+-----+---------+\n",
       "   12|    87.44|\n",
       "    1|    90.97|\n",
       "    6|    77.76|\n",
       "    3|     84.0|\n",
       "    5|    79.96|\n",
       "    9|    77.73|\n",
       "    4|    82.28|\n",
       "    8|     79.0|\n",
       "    7|    78.69|\n",
       "   10|    79.37|\n",
       "   11|    88.09|\n",
       "    2|     88.0|\n",
       "+-----+---------+\n",
       "\n",
       "</div>"
      ]
     },
     "metadata": {},
     "output_type": "display_data"
    }
   ],
   "source": [
    "#What is the max High per month?\n",
    "df3.groupby('month').max('High').show()"
   ]
  },
  {
   "cell_type": "code",
   "execution_count": 19,
   "metadata": {},
   "outputs": [],
   "source": []
  }
 ],
 "metadata": {
  "kernelspec": {
   "display_name": "Python 3",
   "language": "python",
   "name": "python3"
  },
  "language_info": {
   "codemirror_mode": {
    "name": "ipython",
    "version": 3
   },
   "file_extension": ".py",
   "mimetype": "text/x-python",
   "name": "python",
   "nbconvert_exporter": "python",
   "pygments_lexer": "ipython3",
   "version": "3.6.5"
  },
  "name": "walmart",
  "notebookId": 3423351402858381
 },
 "nbformat": 4,
 "nbformat_minor": 1
}
